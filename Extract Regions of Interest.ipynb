{
 "cells": [
  {
   "cell_type": "code",
   "execution_count": null,
   "id": "44fb1c51",
   "metadata": {},
   "outputs": [],
   "source": [
    "import os\n",
    "import json\n",
    "import cv2\n",
    "\n",
    "# Path to the directory containing the images\n",
    "image_dir = 'for_anotation'\n",
    "# Output path\n",
    "output_path = 'data/'\n",
    "\n",
    "# Path to the JSON file containing the region annotations\n",
    "annotations_file = 'regions.json'\n",
    "\n",
    "# Load the JSON file\n",
    "with open(annotations_file, 'r') as file:\n",
    "    annotations = json.load(file)\n",
    "\n",
    "# Iterate over the regions\n",
    "for region in annotations['regions']:\n",
    "    # Get the filename and shape attributes for the region\n",
    "    filename = region['filename']\n",
    "    shape_attributes = region['shape_attributes']\n",
    "\n",
    "    # Construct the full path to the image file\n",
    "    image_path = os.path.join(image_dir, filename)\n",
    "\n",
    "    # Read the image using OpenCV\n",
    "    image = cv2.imread(image_path)\n",
    "\n",
    "    # Extract the region from the image using shape attributes\n",
    "    x = shape_attributes['x']\n",
    "    y = shape_attributes['y']\n",
    "    width = shape_attributes['width']\n",
    "    height = shape_attributes['height']\n",
    "    extracted_region = image[y:y+height, x:x+width]\n",
    "\n",
    "    # Save the extracted region with the filename specified in the 'name' column\n",
    "    extracted_filename = shape_attributes['name']\n",
    "    cv2.imwrite(output_path+extracted_filename, extracted_region)\n"
   ]
  }
 ],
 "metadata": {
  "kernelspec": {
   "display_name": "Python 3 (ipykernel)",
   "language": "python",
   "name": "python3"
  },
  "language_info": {
   "codemirror_mode": {
    "name": "ipython",
    "version": 3
   },
   "file_extension": ".py",
   "mimetype": "text/x-python",
   "name": "python",
   "nbconvert_exporter": "python",
   "pygments_lexer": "ipython3",
   "version": "3.11.4"
  }
 },
 "nbformat": 4,
 "nbformat_minor": 5
}
